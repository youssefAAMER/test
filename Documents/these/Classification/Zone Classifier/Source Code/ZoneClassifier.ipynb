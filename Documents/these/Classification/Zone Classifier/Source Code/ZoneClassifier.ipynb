{
 "cells": [
  {
   "cell_type": "code",
   "execution_count": 232,
   "metadata": {},
   "outputs": [],
   "source": [
    "import numpy as np\n",
    "from sklearn.neighbors import KNeighborsClassifier\n",
    "from sklearn.model_selection import train_test_split\n",
    "from sklearn.pipeline import Pipeline\n",
    "import random\n",
    "import time\n",
    "from sklearn.metrics.pairwise import euclidean_distances\n",
    "from collections import Counter\n",
    "import sys\n",
    "from sklearn import datasets\n",
    "import wget\n",
    "import ssl\n",
    "ssl._create_default_https_context = ssl._create_unverified_context\n",
    "sys.setrecursionlimit(100000000)\n",
    "X, y = datasets.load_wine(return_X_y=True)\n",
    "X_train, X_test, y_train, y_test = train_test_split(X, y,stratify=y, test_size=0.3, random_state=42)\n"
   ]
  },
  {
   "cell_type": "code",
   "execution_count": 233,
   "metadata": {},
   "outputs": [],
   "source": [
    "def zoneClassifier(X_train,y_train,X_test):\n",
    "    #calculate the std of our dataset X_train : radius of the cercle\n",
    "    std = np.std(X_train)\n",
    "    #compute the distance's matrix between our data train and data test\n",
    "    matrix = euclidean_distances(X_test,X_train)\n",
    "    #print matrix.shape\n",
    "    return getClass(y_train,matrix,std)"
   ]
  },
  {
   "cell_type": "code",
   "execution_count": 234,
   "metadata": {},
   "outputs": [],
   "source": [
    "def getClass(y_train,matrix,std):\n",
    "    #print matrix[0]==0\n",
    "    similar = y_train[matrix[0]==0]\n",
    "    result = y_train[matrix[0]<=std/2]\n",
    "    if len(matrix)==1:\n",
    "        if len(similar)!=0:\n",
    "            return [similar[0]]\n",
    "        if len(result)!=0:\n",
    "            return [max(set(result), key = result.tolist().count)]\n",
    "        else:\n",
    "            return [max(y_train[matrix[0]==min(matrix[0])], key = result.tolist().count)]\n",
    "    if len(similar)!=0:\n",
    "            return [similar[0]]+getClass(y_train,matrix[1:],std)\n",
    "    if len(result)!=0:\n",
    "        return [max(set(result), key = result.tolist().count)]+getClass(y_train,matrix[1:],std)\n",
    "    else:\n",
    "        return [max(y_train[matrix[0]==min(matrix[0])], key = result.tolist().count)]+getClass(y_train,matrix[1:],std)"
   ]
  },
  {
   "cell_type": "code",
   "execution_count": 315,
   "metadata": {},
   "outputs": [
    {
     "name": "stdout",
     "output_type": "stream",
     "text": [
      "runtime : 0.0824899673462 seconds\n"
     ]
    }
   ],
   "source": [
    "start_time = time.time()\n",
    "finalResult = zoneClassifier(X_train,y_train,X_test)\n",
    "finalResult2 = zoneClassifier(X_train,y_train,X_train)\n",
    "Runtime = time.time() - start_time\n",
    "print(\"runtime : %s seconds\" % Runtime)"
   ]
  },
  {
   "cell_type": "code",
   "execution_count": 334,
   "metadata": {},
   "outputs": [
    {
     "name": "stdout",
     "output_type": "stream",
     "text": [
      "runtime : 0.0491189956665 seconds\n"
     ]
    }
   ],
   "source": [
    "k = 21\n",
    "#Train Model and Predict  \n",
    "start_time = time.time()\n",
    "neigh = KNeighborsClassifier(n_neighbors = k).fit(X_train,y_train)\n",
    "yhat = neigh.predict(X_test)\n",
    "Runtime2=time.time() - start_time\n",
    "print(\"runtime : %s seconds\" % Runtime2)"
   ]
  },
  {
   "cell_type": "code",
   "execution_count": 335,
   "metadata": {},
   "outputs": [
    {
     "name": "stdout",
     "output_type": "stream",
     "text": [
      "('mine Train set Accuracy: ', 1.0)\n",
      "('mine Test set Accuracy: ', 0.980603997378191)\n"
     ]
    }
   ],
   "source": [
    "from sklearn import metrics\n",
    "print(\"mine Train set Accuracy: \", metrics.recall_score(y_train, finalResult2, average='macro'))\n",
    "print(\"mine Test set Accuracy: \", metrics.recall_score(y_test, finalResult, average='macro'))"
   ]
  },
  {
   "cell_type": "code",
   "execution_count": 336,
   "metadata": {},
   "outputs": [
    {
     "name": "stdout",
     "output_type": "stream",
     "text": [
      "('Knn Train set Accuracy: ', 0.9796948384504646)\n",
      "('Knn Test set Accuracy: ', 0.9451053477841697)\n"
     ]
    }
   ],
   "source": [
    "from sklearn import metrics\n",
    "print(\"Knn Train set Accuracy: \", metrics.recall_score(y_train, neigh.predict(X_train), average='macro'))\n",
    "print(\"Knn Test set Accuracy: \", metrics.recall_score(y_test, yhat, average='macro'))"
   ]
  },
  {
   "cell_type": "markdown",
   "metadata": {},
   "source": [
    "wine = datasets.load_wine()\n",
    "X = wine.data\n",
    "X_train, X_test, y_train, y_test = train_test_split(wine.data, wine.target, test_size=0.3)"
   ]
  },
  {
   "cell_type": "code",
   "execution_count": 314,
   "metadata": {},
   "outputs": [
    {
     "name": "stdout",
     "output_type": "stream",
     "text": [
      "[ 0.  0.  0.  2. 16.  3.  0.  0.  0.  0.  0. 12. 13.  0.  0.  0.  0.  0.\n",
      "  8. 15.  2.  1.  0.  0.  0.  1. 15.  8.  1. 13. 11.  0.  0.  9. 16.  7.\n",
      " 12. 16.  4.  0.  0.  5. 13. 16. 16. 11.  0.  0.  0.  0.  0.  2. 16.  5.\n",
      "  0.  0.  0.  0.  0.  4. 16.  2.  0.  0.]\n",
      "4\n",
      "360\n",
      "3\n"
     ]
    }
   ],
   "source": [
    "\n",
    "#wget.download(\"https://valid_url_link\")\n",
    "\n",
    "digits = datasets.load_digits()\n",
    "X = digits.data\n",
    "# prepare datasets from training and for validation\n",
    "X_train, X_test, y_train, y_test = train_test_split(digits.data, digits.target, test_size=0.2)\n",
    "print X_train[0]\n",
    "print y_train[0]\n",
    "print len(X_test)\n",
    "print y_test[0]"
   ]
  },
  {
   "cell_type": "code",
   "execution_count": 51,
   "metadata": {},
   "outputs": [
    {
     "name": "stdout",
     "output_type": "stream",
     "text": [
      "0.0\n",
      "0.17251527\n",
      "1.0\n",
      "0.5470426\n",
      "400\n"
     ]
    }
   ],
   "source": [
    "print np.min(X)\n",
    "print np.std(X)\n",
    "print np.max(X)\n",
    "print np.mean(X)\n",
    "print len(X)"
   ]
  },
  {
   "cell_type": "code",
   "execution_count": null,
   "metadata": {},
   "outputs": [],
   "source": []
  }
 ],
 "metadata": {
  "kernelspec": {
   "display_name": "Python 2",
   "language": "python",
   "name": "python2"
  },
  "language_info": {
   "codemirror_mode": {
    "name": "ipython",
    "version": 2
   },
   "file_extension": ".py",
   "mimetype": "text/x-python",
   "name": "python",
   "nbconvert_exporter": "python",
   "pygments_lexer": "ipython2",
   "version": "2.7.15"
  }
 },
 "nbformat": 4,
 "nbformat_minor": 2
}
